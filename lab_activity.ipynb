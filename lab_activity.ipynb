{
 "cells": [
  {
   "cell_type": "markdown",
   "metadata": {},
   "source": [
    "## OOP LAB ACTIVITY 1"
   ]
  },
  {
   "cell_type": "markdown",
   "metadata": {},
   "source": [
    "##### 1. Diamond Shape: Write a Python function named print_diamond that takes an odd integer n as an argument and prints a diamond shape with a width of n using the * character.\n"
   ]
  },
  {
   "cell_type": "code",
   "execution_count": null,
   "metadata": {},
   "outputs": [],
   "source": [
    "def print_diamond():\n",
    "    n = int(input(\"input odd integer: \"))\n",
    "\n",
    "    if n % 2 == 0:\n",
    "        print(\"Enter odd integer.\")\n",
    "    \n",
    "    else:\n",
    "        for i in range(1, n + 1, 2):\n",
    "            print((\"*\" * i).center(n))\n",
    "\n",
    "        for i in range(n - 2, 0, -2): \n",
    "            print((\"*\" * i).center(n))\n",
    "\n",
    "print_diamond()"
   ]
  },
  {
   "cell_type": "markdown",
   "metadata": {},
   "source": [
    "##### 2. Create a program that will delete all duplicate characters in a string. Input starts with a number N  and is followed by N strings. Output : Print the character with all the duplicate characters removed.\n"
   ]
  },
  {
   "cell_type": "code",
   "execution_count": null,
   "metadata": {},
   "outputs": [],
   "source": [
    "def dupe_looker():\n",
    "    "
   ]
  }
 ],
 "metadata": {
  "kernelspec": {
   "display_name": "Python 3",
   "language": "python",
   "name": "python3"
  },
  "language_info": {
   "codemirror_mode": {
    "name": "ipython",
    "version": 3
   },
   "file_extension": ".py",
   "mimetype": "text/x-python",
   "name": "python",
   "nbconvert_exporter": "python",
   "pygments_lexer": "ipython3",
   "version": "3.12.6"
  }
 },
 "nbformat": 4,
 "nbformat_minor": 2
}
